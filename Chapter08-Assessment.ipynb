{
 "cells": [
  {
   "cell_type": "markdown",
   "metadata": {},
   "source": [
    "![alt text](images/HDAT9500Banner.PNG)\n",
    "<br>\n",
    "\n",
    "# Chapter 8: Sequential Data, \n",
    "# Assessment: Build an HMM from Data (Baum-Welch algorithm)"
   ]
  },
  {
   "cell_type": "markdown",
   "metadata": {},
   "source": [
    "#####################################################################################\n",
    "\n",
    "Double-click to write down your name and surname.\n",
    "\n",
    "**Name:**\n",
    "\n",
    "\n",
    "**Surname:**\n",
    "\n",
    "**Honour Pledge** <p>\n",
    "    \n",
    "    \n",
    "Declaration: <p>\n",
    "    \n",
    "    \n",
    "I declare that this assessment item is my own work, except where acknowledged, and has not been submitted for academic credit elsewhere or previously, or produced independently of this course (e.g. for a third party such as your place of employment) and acknowledge that the assessor of this item may, for the purpose of assessing this item: \n",
    "\n",
    "    a. Reproduce this assessment item and provide a copy to another member of the University; and/or \n",
    "    b. Communicate a copy of this assessment item to a plagiarism checking service (which may then retain a copy of the assessment item on its database for the purpose of future plagiarism checking). \n",
    "\n",
    "#####################################################################################"
   ]
  },
  {
   "cell_type": "markdown",
   "metadata": {},
   "source": [
    "# 1. Introduction\n",
    "\n",
    "In the previous exercise, we built an HMM from scratch. We could do this because we knew the values of the probabilities for the model in advance. <p>\n",
    "In this case, we are going to create a model (to fit a model) using some data. But we are going to initialise the probabilies at random. Therefore, the model will be learn from data.<p>\n",
    "Again, we will use the HMM in an **unsupervised manner**.\n",
    "    \n",
    "\n",
    "## 1.1. Aims of the Exercise:\n",
    " 1. To continue working with HMMs.\n",
    " 2. To explore sequential data.\n",
    " 3. To create an HMM using Baum-Welch alrightm.\n",
    " 4. To use an HMM to work in **unsupervised** manner (**unsupervised learning**). HMM can be used in a supervised way too, but we are not going to study it in this lesson.\n",
    " \n",
    "It aligns with all the learning outcome of our course: \n",
    "\n",
    "1.\tDistinguish a range of task specific machine learning techniques appropriate for Health Data Science.\n",
    "2.\tDesign machine learning tasks for Health Data Science scenarios.\n",
    "3.\tConstruct appropriate training and test sets for health research data.\n",
    "\n",
    "\n",
    "## 1.2. Jupyter Notebook Intructions\n",
    "1. Read the content of each cell.\n",
    "2. Where necessary, follow the instructions that are written in each cell.\n",
    "3. Run/Execute all the cells that contain Python code sequentially (one at a time), using the \"Run\" button.\n",
    "4. For those cells in which you are asked to write some code, please write the Python code first and then execute/run the cell.\n",
    " \n",
    "## 1.3. Tips\n",
    " 1. The square brackets on the left hand side of each cell indicate whether the cell has been executed or not. Empty square brackets mean that the cell has not been excuted, whereas square brackets that contain a number means that the cell has been executed. Run all the cells in sequence, using the \"Run\" button.\n",
    " 2. To edit this notebook, just double-click in each cell. In thid document, each cell can be a \"Code\" cell or \"text-Markdown\" cell. To choose between these two options, go to the combo-box above. \n",
    " 3. If you want to save your notebook, please make sure you press \"the floppy disk\" icon button above. \n",
    " 4. To clean the content of all cells and re-start Notebook, please go to Cell->All Output->Clear"
   ]
  },
  {
   "cell_type": "code",
   "execution_count": 118,
   "metadata": {},
   "outputs": [
    {
     "name": "stdout",
     "output_type": "stream",
     "text": [
      "3.6.4 |Anaconda, Inc.| (default, Jan 16 2018, 10:22:32) [MSC v.1900 64 bit (AMD64)]\n"
     ]
    }
   ],
   "source": [
    "import sys\n",
    "print(sys.version)\n",
    "#For this notebook to work, Python must be 3.6.4 or 3.6.5\n",
    "\n",
    "import numpy as np\n",
    "import pandas as pd\n",
    "from IPython.display import display\n",
    "\n",
    "from plotnine import *"
   ]
  },
  {
   "cell_type": "markdown",
   "metadata": {},
   "source": [
    "# 2. Instructions\n",
    "1. Let's assume that we do not have the HMM that we created in the previous exercise.\n",
    "2. In this exercise, we are going to create an HMM from scratch. Let us assume that in this case, we do not know the probabilies/parameters of our HMM. You will initialize all the probabilites at random, except the probability of state \"5\" that we assume we know it: <p>\n",
    "    * model.add_transition(s2, s2, 0.00)\n",
    "    * model.add_transition(s2, s3, 1.00)<p>\n",
    "3. In contrast, we have some data that we can use to fit/infer our model. Check questions 1g and 1h of the previous exercise (you should have generated at least 20 sequences).\n",
    "4. We are going to use the function fit() for fit our model.\n",
    "        https://media.readthedocs.org/pdf/pomegranate/stable/pomegranate.pdf <p>\n",
    "        Pages 41 and 42, function \"fit()\"\n",
    "5. Follow the instructions below. Each of the questions include instructions.\n",
    "6. Below is a graphical representation of what we know about our HMM. That is, this is the only certain information that we have with respect to our HMM (along with the data sequences that we are using to \"train\" our model).\n",
    "\n",
    "![alt text](images/HMM_to_train.PNG)"
   ]
  },
  {
   "cell_type": "markdown",
   "metadata": {},
   "source": [
    "Figure 1. Initial Probability and transition probabily of state \"5\" to state I."
   ]
  },
  {
   "cell_type": "markdown",
   "metadata": {},
   "source": [
    "<div class=\"alert alert-block alert-success\">**Start Activity 1**</div>"
   ]
  },
  {
   "cell_type": "markdown",
   "metadata": {},
   "source": [
    "### <font color='blue'> Question 1:  Load the data that you generated in the previous exercise (5 marks)</font> <p>"
   ]
  },
  {
   "cell_type": "code",
   "execution_count": 110,
   "metadata": {},
   "outputs": [],
   "source": [
    "# Type Python code here:\n",
    "sequence = ..."
   ]
  },
  {
   "cell_type": "code",
   "execution_count": 111,
   "metadata": {},
   "outputs": [],
   "source": [
    "#!pip install pomegranate\n",
    "from pomegranate import *\n",
    "model=HiddenMarkovModel()"
   ]
  },
  {
   "cell_type": "code",
   "execution_count": 102,
   "metadata": {},
   "outputs": [],
   "source": [
    "#model = HiddenMarkovModel('DNA Decodification')"
   ]
  },
  {
   "cell_type": "markdown",
   "metadata": {},
   "source": [
    "### <font color='blue'> Question 2: Define the emission probabilities, link the emission probabilities to the states/hidden variables of your HMM and intitialize the transition probabilites. All the probabilities shoud be initialized randomly, except the ones provided above (see Figure). The states will be named \"E\", \"5\" and \"I\" as before. (40 marks). </font> \n",
    "<font color='green'> Tip: page 50 of the pomegranate documenation: https://media.readthedocs.org/pdf/pomegranate/latest/pomegranate.pdf </font>"
   ]
  },
  {
   "cell_type": "code",
   "execution_count": 1,
   "metadata": {},
   "outputs": [],
   "source": [
    "# Type Python code here:\n"
   ]
  },
  {
   "cell_type": "markdown",
   "metadata": {},
   "source": [
    "### <font color='blue'> Question 3: Once you have initilized our HMM with random values, let's fit the model with our data (sequences) in order to \"train\" the model and find good parameteres. Give an argument of stop_threshold=0.01 (10 marks). </font> <p>\n",
    "<font color='green'> Tip: Pages 41 and 42, function \"fit()\"\n",
    "https://media.readthedocs.org/pdf/pomegranate/stable/pomegranate.pdf <p>\n",
    "         </font>"
   ]
  },
  {
   "cell_type": "code",
   "execution_count": 3,
   "metadata": {},
   "outputs": [],
   "source": [
    "# Type Python code here:\n"
   ]
  },
  {
   "cell_type": "markdown",
   "metadata": {},
   "source": [
    "### <font color='blue'> Question 4: Use the DNA sequence test that we used in the previous exercise and check that you obtain the same result (or very similar) as before. (20 marks) </font> <p>"
   ]
  },
  {
   "cell_type": "code",
   "execution_count": 115,
   "metadata": {},
   "outputs": [],
   "source": [
    "# Type Python code here:\n"
   ]
  },
  {
   "cell_type": "code",
   "execution_count": 116,
   "metadata": {},
   "outputs": [],
   "source": []
  },
  {
   "cell_type": "code",
   "execution_count": null,
   "metadata": {},
   "outputs": [],
   "source": []
  },
  {
   "cell_type": "markdown",
   "metadata": {},
   "source": [
    "### <font color='blue'> Question 5: With all this knowledge, give a definition of what an HMM is, when you can use it and how you can use it. Minimum 200 words-Maximum 600 words approximately (10 marks). </font> <p>"
   ]
  },
  {
   "cell_type": "markdown",
   "metadata": {},
   "source": [
    "What is an HMM?\n"
   ]
  },
  {
   "cell_type": "markdown",
   "metadata": {},
   "source": [
    "### <font color='blue'> Question 6: Which task or tasks, of those explained in section 4 in the previous exercise, did we carry out here? Give the task(s) and explain how they are used here. (15 marks)</font> <p>"
   ]
  },
  {
   "cell_type": "markdown",
   "metadata": {},
   "source": []
  }
 ],
 "metadata": {
  "kernelspec": {
   "display_name": "Python 3",
   "language": "python",
   "name": "python3"
  },
  "language_info": {
   "codemirror_mode": {
    "name": "ipython",
    "version": 3
   },
   "file_extension": ".py",
   "mimetype": "text/x-python",
   "name": "python",
   "nbconvert_exporter": "python",
   "pygments_lexer": "ipython3",
   "version": "3.6.9"
  }
 },
 "nbformat": 4,
 "nbformat_minor": 2
}
